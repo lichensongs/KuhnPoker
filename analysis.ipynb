{
 "cells": [
  {
   "cell_type": "code",
   "execution_count": 5,
   "id": "f99e2e19",
   "metadata": {},
   "outputs": [],
   "source": [
    "from MCTS import Card, ConstModel, InfoSet, Action\n",
    "\n",
    "import numpy as np\n",
    "import random\n",
    "import pandas as pd"
   ]
  },
  {
   "cell_type": "code",
   "execution_count": null,
   "id": "82ff1941",
   "metadata": {},
   "outputs": [],
   "source": [
    "dfs = []\n",
    "for i in range(10):\n",
    "    df = pd.read_csv(f'training_data/df-{i}.csv')\n",
    "    dfs.append(df)\n",
    "\n",
    "df = pd.concat(dfs, axis=0)"
   ]
  },
  {
   "cell_type": "code",
   "execution_count": 2,
   "id": "6536e4c4",
   "metadata": {},
   "outputs": [
    {
     "name": "stdout",
     "output_type": "stream",
     "text": [
      "Card.JACK\n",
      "Card.QUEEN\n",
      "Card.KING\n"
     ]
    }
   ],
   "source": [
    "for c in Card:\n",
    "    print(c)"
   ]
  },
  {
   "cell_type": "code",
   "execution_count": 9,
   "id": "b691c9db",
   "metadata": {},
   "outputs": [],
   "source": [
    "info_set = InfoSet([Action.PASS, Action.ADD_CHIP, Action.ADD_CHIP])\n",
    "info_set.cards[0] = Card.QUEEN"
   ]
  },
  {
   "cell_type": "code",
   "execution_count": 10,
   "id": "9bf65a6f",
   "metadata": {},
   "outputs": [],
   "source": [
    "model = ConstModel(1/3, 1/3, 0.75)"
   ]
  },
  {
   "cell_type": "code",
   "execution_count": 11,
   "id": "55e97616",
   "metadata": {},
   "outputs": [
    {
     "data": {
      "text/plain": [
       "array([0.25, 0.  , 0.75])"
      ]
     },
     "execution_count": 11,
     "metadata": {},
     "output_type": "execute_result"
    }
   ],
   "source": [
    "model.bayes_prob(info_set)"
   ]
  },
  {
   "cell_type": "code",
   "execution_count": null,
   "id": "8f4474b7",
   "metadata": {},
   "outputs": [],
   "source": [
    "df = pd.read_csv(f'training_data/df-0.csv')"
   ]
  },
  {
   "cell_type": "code",
   "execution_count": 12,
   "id": "d8e34c11",
   "metadata": {},
   "outputs": [
    {
     "data": {
      "text/plain": [
       "False"
      ]
     },
     "execution_count": 12,
     "metadata": {},
     "output_type": "execute_result"
    }
   ],
   "source": [
    "{} is None"
   ]
  },
  {
   "cell_type": "code",
   "execution_count": 14,
   "id": "c729e474",
   "metadata": {},
   "outputs": [
    {
     "name": "stdout",
     "output_type": "stream",
     "text": [
      "empty\n"
     ]
    }
   ],
   "source": [
    "if not {}:\n",
    "    print('empty')"
   ]
  },
  {
   "cell_type": "code",
   "execution_count": 16,
   "id": "f666bae5",
   "metadata": {},
   "outputs": [
    {
     "name": "stdout",
     "output_type": "stream",
     "text": [
      "Lower perturbed probabilities: [0.2 0.  0.8]\n",
      "Upper perturbed probabilities: [0.3 0.  0.7]\n"
     ]
    }
   ],
   "source": [
    "import numpy as np\n",
    "\n",
    "# Original probabilities array\n",
    "probs = np.array([0.25, 0, 0.75])\n",
    "\n",
    "# Specified uncertainty\n",
    "uncertainty = 0.05\n",
    "\n",
    "# Function to perturb the probabilities\n",
    "def perturb_probs(probs, uncertainty):\n",
    "    indices = np.where((probs > 0) & (probs < 1))[0]  # Indices of modifiable probabilities\n",
    "    \n",
    "    # Creating perturbed versions\n",
    "    if len(indices) > 1:  # Ensure there are at least two modifiable probabilities\n",
    "        lower = probs.copy()\n",
    "        upper = probs.copy()\n",
    "\n",
    "        # Decrease first modifiable prob and increase second\n",
    "        lower[indices[0]] = max(0, lower[indices[0]] - uncertainty)\n",
    "        lower[indices[1]] = min(1, lower[indices[1]] + uncertainty)\n",
    "\n",
    "        # Increase first modifiable prob and decrease second\n",
    "        upper[indices[0]] = min(1, upper[indices[0]] + uncertainty)\n",
    "        upper[indices[1]] = max(0, upper[indices[1]] - uncertainty)\n",
    "\n",
    "        return lower, upper\n",
    "    else:\n",
    "        return probs, probs  # Return unchanged if not enough elements to modify\n",
    "\n",
    "# Get perturbed probabilities\n",
    "lower_perturbed, upper_perturbed = perturb_probs(probs, uncertainty)\n",
    "\n",
    "print(\"Lower perturbed probabilities:\", lower_perturbed)\n",
    "print(\"Upper perturbed probabilities:\", upper_perturbed)"
   ]
  },
  {
   "cell_type": "code",
   "execution_count": 17,
   "id": "0b316853",
   "metadata": {},
   "outputs": [
    {
     "name": "stdout",
     "output_type": "stream",
     "text": [
      "The intervals overlap:\n"
     ]
    }
   ],
   "source": [
    "b\n",
    "\n",
    "# Define intervals\n",
    "interval_a = np.array([-1, -1])\n",
    "interval_b = np.array([-1.2, -0.8])\n",
    "\n",
    "# Check if they overlap\n",
    "overlap = intervals_overlap(interval_a, interval_b)\n",
    "print(\"The intervals overlap:\" if overlap else \"The intervals do not overlap.\")"
   ]
  },
  {
   "cell_type": "code",
   "execution_count": 25,
   "id": "8bd5a06f",
   "metadata": {},
   "outputs": [],
   "source": [
    "a = [None, 1]"
   ]
  },
  {
   "cell_type": "code",
   "execution_count": 31,
   "id": "3359c7c2",
   "metadata": {},
   "outputs": [
    {
     "ename": "AttributeError",
     "evalue": "'list' object has no attribute 'any'",
     "output_type": "error",
     "traceback": [
      "\u001b[0;31m---------------------------------------------------------------------------\u001b[0m",
      "\u001b[0;31mAttributeError\u001b[0m                            Traceback (most recent call last)",
      "Cell \u001b[0;32mIn[31], line 1\u001b[0m\n\u001b[0;32m----> 1\u001b[0m a\u001b[38;5;241m.\u001b[39many(\u001b[38;5;28;01mNone\u001b[39;00m)\n",
      "\u001b[0;31mAttributeError\u001b[0m: 'list' object has no attribute 'any'"
     ]
    }
   ],
   "source": [
    "a.any(None)"
   ]
  },
  {
   "cell_type": "code",
   "execution_count": 30,
   "id": "8319e40e",
   "metadata": {},
   "outputs": [
    {
     "name": "stdout",
     "output_type": "stream",
     "text": [
      "not None\n"
     ]
    }
   ],
   "source": [
    "if None in a:\n",
    "    print('not None')"
   ]
  },
  {
   "cell_type": "code",
   "execution_count": null,
   "id": "83cc1ca9",
   "metadata": {},
   "outputs": [],
   "source": [
    "df"
   ]
  },
  {
   "cell_type": "code",
   "execution_count": null,
   "id": "33cd98b4",
   "metadata": {},
   "outputs": [],
   "source": [
    "ix = (df['facing_action'] == 1) & (df['card'] == 1)\n",
    "df[ix]"
   ]
  },
  {
   "cell_type": "code",
   "execution_count": null,
   "id": "0e1c7320",
   "metadata": {},
   "outputs": [],
   "source": [
    "count = df[ix]['opponent_card'].count()\n",
    "freq = df[ix]['opponent_card'].value_counts() / count"
   ]
  },
  {
   "cell_type": "code",
   "execution_count": null,
   "id": "eff9f462",
   "metadata": {},
   "outputs": [],
   "source": [
    "freq"
   ]
  },
  {
   "cell_type": "code",
   "execution_count": null,
   "id": "2b76839e",
   "metadata": {},
   "outputs": [],
   "source": [
    "h = freq.loc[2]\n",
    "std = np.sqrt(h * (1 - h)/count)\n",
    "std"
   ]
  },
  {
   "cell_type": "code",
   "execution_count": null,
   "id": "b775ff5c",
   "metadata": {},
   "outputs": [],
   "source": [
    "ix = (df['facing_action'] == 0) & (df['card'] == 0)\n",
    "df[ix]"
   ]
  },
  {
   "cell_type": "code",
   "execution_count": null,
   "id": "23b7c56e",
   "metadata": {},
   "outputs": [],
   "source": [
    "ix = (df['facing_action'] == 1) & (df['card'] == 1)\n",
    "df[ix]"
   ]
  },
  {
   "cell_type": "code",
   "execution_count": null,
   "id": "c2601c4d",
   "metadata": {},
   "outputs": [],
   "source": [
    "import matplotlib.pyplot as plt\n",
    "data = df\n",
    "# Plotting the trajectory\n",
    "plt.figure(figsize=(8, 6))  # Set the figure size\n",
    "plt.plot(data['p'], data['q'], marker='o', linestyle='-', color='b')  # Line plot with markers\n",
    "plt.title('Trajectory in p-q Space')  # Title of the plot\n",
    "plt.xlabel('p')  # Label for the x-axis\n",
    "plt.ylabel('q')  # Label for the y-axis\n",
    "plt.grid(True)  # Enable grid for easier readability\n",
    "\n",
    "# Annotate each point with its order number\n",
    "for i, (p, q) in enumerate(zip(data['p'], data['q'])):\n",
    "    plt.text(p, q, str(i), color=\"red\", fontsize=12)\n",
    "\n",
    "plt.show()  # Display the plot"
   ]
  },
  {
   "cell_type": "code",
   "execution_count": null,
   "id": "8f0dce33",
   "metadata": {},
   "outputs": [],
   "source": []
  }
 ],
 "metadata": {
  "kernelspec": {
   "display_name": "Python 3 (ipykernel)",
   "language": "python",
   "name": "python3"
  },
  "language_info": {
   "codemirror_mode": {
    "name": "ipython",
    "version": 3
   },
   "file_extension": ".py",
   "mimetype": "text/x-python",
   "name": "python",
   "nbconvert_exporter": "python",
   "pygments_lexer": "ipython3",
   "version": "3.11.4"
  }
 },
 "nbformat": 4,
 "nbformat_minor": 5
}
