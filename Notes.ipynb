{
 "cells": [
  {
   "cell_type": "markdown",
   "id": "ff8a3fb2",
   "metadata": {},
   "source": [
    "# Simplified Nash Equalibrium \n",
    "\n",
    "Assume Player 1 checks on the opening move no matter what card he has.\n",
    "\n",
    "Denote Player 1's card as $C_1$ and Player 2's card as $C_2$: $C_1, C_2 \\in \\{J, Q, K\\}$\n",
    "\n",
    "Denote Player 2's action as $A_2 \\in \\{bet, check\\}$\n",
    "\n",
    "Denote Player 1's action after Player 2 bets as $A_1 \\in \\{call, fold\\}$"
   ]
  },
  {
   "cell_type": "markdown",
   "id": "529db5e5",
   "metadata": {},
   "source": [
    "The conditional probabilities $P(A_2|C_2)$ and $P(A_1|C_1)$ are given in the table below:\n",
    "\n",
    "![alt text](images/probs.png \"conditoinal probs\")"
   ]
  },
  {
   "cell_type": "markdown",
   "id": "ebc6835d",
   "metadata": {},
   "source": [
    "## Find Nash Equalibrium value for q\n",
    "\n",
    "In Player 2's turn, if he has J and bets, the outcome will be:\n",
    "1) -2 if Player 1 has Q and calls with probability $q$\n",
    "2) +1 if Player 1 has Q and checks with probability $1-q$\n",
    "3) -2 if Player 1 has K (and calls with certainty)\n",
    "\n",
    "$$E[R_2|A_2=bet] = P(C_1=Q)P(A_1=call|C_1=Q)\\cdot(-2) + P(C_1=Q)P(A_1=fold|C_1=Q)\\cdot 1 + P(C_1=K) \\cdot(-2) = -\\frac{1}{2} -\\frac{3}{2}q$$\n",
    "\n",
    "If Player 2 checks, he will certainly lose\n",
    "\n",
    "$$E[R|A_2=check] = -1$$\n",
    "\n",
    "To achieve Nash Equalibrium, Player 2 should be indifferent in the decision of bet or check. We have:\n",
    "\n",
    "$$-\\frac{1}{2} -\\frac{3}{2}q = -1 \\Rightarrow q = \\frac{1}{3}$$"
   ]
  },
  {
   "cell_type": "markdown",
   "id": "abeec5b1",
   "metadata": {},
   "source": [
    "## Find Nash Equalibrium value for p\n",
    "\n",
    "In Player 1's turn after Player 2 already bets, if Player 1 calls, the outcome will then depend on what card that Player 2 holds. Apply Bayes' rule to find out the probability conditioned on Player 2 bets:\n",
    "\n",
    "$$P(C_2=J|A_2=bet) = \\frac{P(A_2=bet|C_2=J)P(C_2=J)}{P(A_2=bet|C_2=J)P(C_2=J) + P(A_2=bet|C_2=K)P(C_2=K)} = \\frac{p}{1+p}$$\n",
    "\n",
    "$$P(C_2=K|A_2=bet) = \\frac{P(A_2=bet|C_2=K)P(C_2=K)}{P(A_2=bet|C_2=J)P(C_2=J) + P(A_2=bet|C_2=K)P(C_2=K)} = \\frac{1}{1+p}$$\n",
    "\n",
    "Similarly, apply indifference property:\n",
    "\n",
    "$$E[R_1|A_1=call] = 2\\cdot\\frac{p-1}{p+1} = E[R_1|A_1=fold]=-1 \\Rightarrow p=\\frac{1}{3}$$"
   ]
  },
  {
   "cell_type": "code",
   "execution_count": 1,
   "id": "dfccea23",
   "metadata": {},
   "outputs": [],
   "source": [
    "import numpy as np"
   ]
  },
  {
   "cell_type": "code",
   "execution_count": 14,
   "id": "6b89bf7d",
   "metadata": {},
   "outputs": [
    {
     "data": {
      "text/plain": [
       "1"
      ]
     },
     "execution_count": 14,
     "metadata": {},
     "output_type": "execute_result"
    }
   ],
   "source": [
    "np.random.choice(3)"
   ]
  },
  {
   "cell_type": "code",
   "execution_count": 15,
   "id": "cd795f3d",
   "metadata": {},
   "outputs": [],
   "source": [
    "p = np.array([0, 0.5,0.5])"
   ]
  },
  {
   "cell_type": "code",
   "execution_count": 16,
   "id": "d2975332",
   "metadata": {},
   "outputs": [
    {
     "data": {
      "text/plain": [
       "(array([1, 2]),)"
      ]
     },
     "execution_count": 16,
     "metadata": {},
     "output_type": "execute_result"
    }
   ],
   "source": [
    "np.where(p>0)"
   ]
  },
  {
   "cell_type": "code",
   "execution_count": 17,
   "id": "4e77b41a",
   "metadata": {},
   "outputs": [],
   "source": [
    "a = np.array(range(5))"
   ]
  },
  {
   "cell_type": "code",
   "execution_count": 18,
   "id": "58ecc3f2",
   "metadata": {},
   "outputs": [
    {
     "data": {
      "text/plain": [
       "array([0, 1, 2, 3, 4])"
      ]
     },
     "execution_count": 18,
     "metadata": {},
     "output_type": "execute_result"
    }
   ],
   "source": [
    "a"
   ]
  },
  {
   "cell_type": "code",
   "execution_count": 19,
   "id": "93f494f6",
   "metadata": {},
   "outputs": [],
   "source": [
    "ix = np.random.choice([True, False], size=5)"
   ]
  },
  {
   "cell_type": "code",
   "execution_count": 20,
   "id": "6459ffa9",
   "metadata": {},
   "outputs": [
    {
     "data": {
      "text/plain": [
       "array([False, False,  True,  True,  True])"
      ]
     },
     "execution_count": 20,
     "metadata": {},
     "output_type": "execute_result"
    }
   ],
   "source": [
    "ix"
   ]
  },
  {
   "cell_type": "code",
   "execution_count": 21,
   "id": "5e8b5028",
   "metadata": {},
   "outputs": [],
   "source": [
    "a[ix] = 100"
   ]
  },
  {
   "cell_type": "code",
   "execution_count": 22,
   "id": "4b4834c7",
   "metadata": {},
   "outputs": [
    {
     "data": {
      "text/plain": [
       "array([  0,   1, 100, 100, 100])"
      ]
     },
     "execution_count": 22,
     "metadata": {},
     "output_type": "execute_result"
    }
   ],
   "source": [
    "a"
   ]
  },
  {
   "cell_type": "code",
   "execution_count": 23,
   "id": "f85ab72f",
   "metadata": {},
   "outputs": [
    {
     "data": {
      "text/plain": [
       "True"
      ]
     },
     "execution_count": 23,
     "metadata": {},
     "output_type": "execute_result"
    }
   ],
   "source": [
    "True in ix"
   ]
  },
  {
   "cell_type": "code",
   "execution_count": 24,
   "id": "f4be3730",
   "metadata": {},
   "outputs": [
    {
     "data": {
      "text/plain": [
       "array([  0,   1, 100, 100, 100])"
      ]
     },
     "execution_count": 24,
     "metadata": {},
     "output_type": "execute_result"
    }
   ],
   "source": [
    "a"
   ]
  },
  {
   "cell_type": "code",
   "execution_count": 25,
   "id": "d9e4d0ac",
   "metadata": {},
   "outputs": [],
   "source": [
    "lix = np.array([1,2])"
   ]
  },
  {
   "cell_type": "code",
   "execution_count": 26,
   "id": "c2dee561",
   "metadata": {},
   "outputs": [
    {
     "data": {
      "text/plain": [
       "array([1, 2])"
      ]
     },
     "execution_count": 26,
     "metadata": {},
     "output_type": "execute_result"
    }
   ],
   "source": [
    "lix"
   ]
  },
  {
   "cell_type": "code",
   "execution_count": 27,
   "id": "ffdfbbad",
   "metadata": {},
   "outputs": [
    {
     "data": {
      "text/plain": [
       "array([  1, 100])"
      ]
     },
     "execution_count": 27,
     "metadata": {},
     "output_type": "execute_result"
    }
   ],
   "source": [
    "a[lix]"
   ]
  },
  {
   "cell_type": "code",
   "execution_count": null,
   "id": "bd441c72",
   "metadata": {},
   "outputs": [],
   "source": [
    "how "
   ]
  }
 ],
 "metadata": {
  "kernelspec": {
   "display_name": "Python 3 (ipykernel)",
   "language": "python",
   "name": "python3"
  },
  "language_info": {
   "codemirror_mode": {
    "name": "ipython",
    "version": 3
   },
   "file_extension": ".py",
   "mimetype": "text/x-python",
   "name": "python",
   "nbconvert_exporter": "python",
   "pygments_lexer": "ipython3",
   "version": "3.11.4"
  }
 },
 "nbformat": 4,
 "nbformat_minor": 5
}
